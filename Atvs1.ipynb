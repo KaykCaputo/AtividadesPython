{
 "cells": [
  {
   "cell_type": "code",
   "execution_count": null,
   "id": "dd2146e2",
   "metadata": {},
   "outputs": [
    {
     "name": "stdout",
     "output_type": "stream",
     "text": [
      "5.206896551724138\n"
     ]
    }
   ],
   "source": [
    "#Atv-1\n",
    "\n",
    "print((5 * (10 - 4)**2) / (3**3 + 2) - 1)"
   ]
  },
  {
   "cell_type": "code",
   "execution_count": null,
   "id": "0ce25fcc",
   "metadata": {},
   "outputs": [
    {
     "name": "stdout",
     "output_type": "stream",
     "text": [
      "A distancia entre os pontos (2,3) e (8,11) é de: 10.0\n"
     ]
    }
   ],
   "source": [
    "#Atv-2\n",
    "\n",
    "x1,y1 = 2,3\n",
    "x2,y2 = 8,11\n",
    "\n",
    "print(f\"A distancia entre os pontos ({x1},{y1}) e ({x2},{y2}) é de: {((x2 - x1)**2 + (y1 - y2)**2)**(1/2)}\")"
   ]
  },
  {
   "cell_type": "code",
   "execution_count": 15,
   "id": "4c236938",
   "metadata": {},
   "outputs": [
    {
     "name": "stdout",
     "output_type": "stream",
     "text": [
      "A média ponderada entre os valores (7, 3), (8.5, 5) e (6, 2) é: 7.55\n"
     ]
    }
   ],
   "source": [
    "#Atv-3\n",
    "\n",
    "pr1, pe1 = 7,3\n",
    "pr2, pe2 = 8.5,5\n",
    "pr3, pe3 = 6,2\n",
    "\n",
    "print(f\"A média ponderada entre os valores ({pr1}, {pe1}), ({pr2}, {pe2}) e ({pr3}, {pe3}) é: {(pr1*pe1+pr2*pe2+pr3*pe3)/(pe1+pe2+pe3)}\")"
   ]
  }
 ],
 "metadata": {
  "kernelspec": {
   "display_name": ".venv",
   "language": "python",
   "name": "python3"
  },
  "language_info": {
   "codemirror_mode": {
    "name": "ipython",
    "version": 3
   },
   "file_extension": ".py",
   "mimetype": "text/x-python",
   "name": "python",
   "nbconvert_exporter": "python",
   "pygments_lexer": "ipython3",
   "version": "3.12.1"
  }
 },
 "nbformat": 4,
 "nbformat_minor": 5
}
